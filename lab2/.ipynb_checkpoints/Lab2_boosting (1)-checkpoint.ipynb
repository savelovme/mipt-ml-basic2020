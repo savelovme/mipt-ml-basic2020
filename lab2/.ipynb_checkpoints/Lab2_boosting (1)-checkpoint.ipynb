{
 "cells": [
  {
   "cell_type": "markdown",
   "metadata": {
    "colab_type": "text",
    "id": "QaYR5gm5YwCa",
    "nbgrader": {
     "grade": false,
     "grade_id": "cell-86e0de040aac317a",
     "locked": true,
     "schema_version": 2,
     "solution": false
    }
   },
   "source": [
    "# Lab assignment №2: Gradient boosting and feature importance estimation\n",
    "\n",
    "This lab assignment consists of several parts. You are supposed to make some transformations, train some models, estimate the quality of the models and explain your results.\n",
    "\n",
    "Several comments:\n",
    "* Don't hesitate to ask questions, it's a good practice.\n",
    "* No private/public sharing, please. The copied assignments will be graded with 0 points.\n",
    "* Blocks of this lab will be graded separately."
   ]
  },
  {
   "cell_type": "markdown",
   "metadata": {
    "colab_type": "text",
    "id": "hAU5sJWSYwCb"
   },
   "source": [
    "Here we will work with widely known Human Actividy Recognition (HAR) dataset. Data is available at [UCI repository](https://archive.ics.uci.edu/ml/datasets/human+activity+recognition+using+smartphones). Download it and place in `data/` folder in the same directory as this notebook. There are available both raw and preprocessed datasets. This time we will use the preprocessed one.\n",
    "\n",
    "There are several great frameworks (listed below). However, we recommend to stick to `LightGBM` for this task.\n",
    "* LightGBM by Microsoft. [Link to github](https://github.com/Microsoft/LightGBM). It is one of the most popular frameworks these days that shows both great quality and performance.\n",
    "* xgboost by dlmc. [Link to github](https://github.com/dmlc/xgboost). The most famous framework which got very popular on kaggle.\n",
    "* Catboost by Yandex. [Link to github](https://github.com/catboost/catboost). Novel framework by Yandex company tuned to deal well with categorical features.\n",
    "\n",
    "Some simple preprocessing is done for you. \n",
    "\n",
    "Parts 1 and 3 have the same weight equal to $1$. Part 2 has weight $0.5$.\n",
    "\n",
    "### Part 1:\n",
    "Your __ultimate target is to get familiar with one of the frameworks above__ and achieve at least 90% accuracy on test dataset:\n",
    "\n",
    "* $\\geq 90\\%$ accuracy: 0.5 points for this part\n",
    "* $\\geq 92\\%$ accuracy: 0.7 points for this part\n",
    "* $\\geq 94\\%$ accuracy: 1 point for this part"
   ]
  },
  {
   "cell_type": "code",
   "execution_count": 11,
   "metadata": {
    "colab": {
     "base_uri": "https://localhost:8080/",
     "height": 282
    },
    "colab_type": "code",
    "id": "7fBv2VwbYwCd",
    "outputId": "eb982491-cce3-4c34-d8e8-a5f45edc731b"
   },
   "outputs": [],
   "source": [
    "# !mkdir models\n",
    "# !wget https://archive.ics.uci.edu/ml/machine-learning-databases/00240/UCI%20HAR%20Dataset.zip\n",
    "# !unzip -q UCI\\ HAR\\ Dataset.zip\n",
    "#path = 'UCI HAR Dataset'\n",
    "path = 'data'"
   ]
  },
  {
   "cell_type": "code",
   "execution_count": null,
   "metadata": {
    "colab": {},
    "colab_type": "code",
    "id": "Ow8ZwTWcL1us"
   },
   "outputs": [],
   "source": []
  },
  {
   "cell_type": "code",
   "execution_count": 12,
   "metadata": {
    "colab": {},
    "colab_type": "code",
    "id": "8nRbW1qSYwCi"
   },
   "outputs": [],
   "source": [
    "import numpy as np\n",
    "\n",
    "from sklearn.linear_model import LogisticRegression\n",
    "from sklearn.ensemble import RandomForestClassifier\n",
    "\n",
    "from sklearn.decomposition import PCA\n",
    "\n",
    "from sklearn.pipeline import Pipeline\n",
    "from sklearn.preprocessing import StandardScaler\n",
    "\n",
    "from sklearn.model_selection import RandomizedSearchCV, GridSearchCV\n",
    "from sklearn.model_selection import train_test_split\n",
    "from sklearn.metrics import accuracy_score, f1_score, precision_score, recall_score\n",
    "\n",
    "# import xgboost as xgb\n",
    "# from xgboost import XGBClassifier, DMatrix\n",
    "#!pip install catboost\n",
    "# from catboost import Pool, CatBoostClassifier\n",
    "\n",
    "import lightgbm as lgb\n",
    "from tqdm.notebook import tqdm\n",
    "import pickle\n",
    "# !pip install scikit-plot\n",
    "\n",
    "import scikitplot as skplt\n",
    "import matplotlib.pyplot as plt\n",
    "%matplotlib inline"
   ]
  },
  {
   "cell_type": "code",
   "execution_count": 13,
   "metadata": {
    "colab": {},
    "colab_type": "code",
    "id": "Wa9yC1mxYwCl"
   },
   "outputs": [],
   "source": [
    "X_train = np.genfromtxt(path + '/train/X_train.txt')\n",
    "y_train = np.genfromtxt(path + '/train/y_train.txt') - 1\n",
    "\n",
    "X_test = np.genfromtxt(path + '/test/X_test.txt')\n",
    "y_test = np.genfromtxt(path + '/test/y_test.txt') - 1\n",
    "\n",
    "with open(path + '/activity_labels.txt', 'r') as iofile:\n",
    "    activity_labels = iofile.readlines()\n",
    "\n",
    "activity_labels = [x.replace('\\n', '').split(' ') for x in activity_labels]\n",
    "activity_labels = dict([(int(x[0]) - 1, x[1]) for x in activity_labels])"
   ]
  },
  {
   "cell_type": "code",
   "execution_count": 14,
   "metadata": {
    "colab": {
     "base_uri": "https://localhost:8080/",
     "height": 143
    },
    "colab_type": "code",
    "id": "YAN9kSmjYwCp",
    "outputId": "4619a652-2793-4399-df86-8e0dac48614e"
   },
   "outputs": [
    {
     "name": "stdout",
     "output_type": "stream",
     "text": [
      "Соответствие между меткой и названием класса\n",
      "0 : WALKING\n",
      "1 : WALKING_UPSTAIRS\n",
      "2 : WALKING_DOWNSTAIRS\n",
      "3 : SITTING\n",
      "4 : STANDING\n",
      "5 : LAYING\n"
     ]
    }
   ],
   "source": [
    "print('Соответствие между меткой и названием класса')\n",
    "print('\\n'.join('{} : {}'.format(key, value) for key, value in activity_labels.items()))"
   ]
  },
  {
   "cell_type": "markdown",
   "metadata": {
    "colab_type": "text",
    "id": "FLzh1V8tYwCt"
   },
   "source": [
    "Предобработку данных буду производить непосредственно в коде, поэтому удалил некоторые строки."
   ]
  },
  {
   "cell_type": "code",
   "execution_count": 15,
   "metadata": {
    "colab": {
     "base_uri": "https://localhost:8080/",
     "height": 53
    },
    "colab_type": "code",
    "id": "AadcoyreYwCu",
    "outputId": "dce49f9b-c7c9-4f1f-9800-6c6b95f3c184"
   },
   "outputs": [
    {
     "name": "stdout",
     "output_type": "stream",
     "text": [
      "Размер выборки: 7352 \n",
      "Количество фичей: 561\n"
     ]
    }
   ],
   "source": [
    "print('Размер выборки: {} \\nКоличество фичей: {}'.format(*X_train.shape))"
   ]
  },
  {
   "cell_type": "markdown",
   "metadata": {
    "colab_type": "text",
    "id": "nOoO8ijEYwCy"
   },
   "source": [
    "The dataset has some duplicating features. File `unique_columns.txt` stores the indices of the unique ones. "
   ]
  },
  {
   "cell_type": "code",
   "execution_count": 16,
   "metadata": {
    "colab": {
     "base_uri": "https://localhost:8080/",
     "height": 215
    },
    "colab_type": "code",
    "id": "S0UZ5XIrYwCy",
    "outputId": "0462ade6-8a73-4b03-eaa3-10b45f432bd0"
   },
   "outputs": [],
   "source": [
    "try: \n",
    "    unique_columns = np.genfromtxt('unique_columns.txt', delimiter=',').astype(int)\n",
    "except OSError:\n",
    "    ! wget https://raw.githubusercontent.com/ml-mipt/ml-mipt/basic_s20/homeworks_basic/Lab2_boosting/unique_columns.txt -nc\n",
    "    unique_columns = np.genfromtxt('unique_columns.txt', delimiter=',').astype(int)\n",
    "\n",
    "X_train = X_train[:, unique_columns]\n",
    "X_test = X_test[:, unique_columns]"
   ]
  },
  {
   "cell_type": "code",
   "execution_count": 17,
   "metadata": {
    "colab": {
     "base_uri": "https://localhost:8080/",
     "height": 35
    },
    "colab_type": "code",
    "id": "B2KdQiTiYwC3",
    "outputId": "4d749cac-4fc4-4d1e-c084-1a406fe713fc"
   },
   "outputs": [
    {
     "name": "stdout",
     "output_type": "stream",
     "text": [
      "Число уникальных фичей: 540\n"
     ]
    }
   ],
   "source": [
    "print('Число уникальных фичей: {}'.format(X_train.shape[1]))"
   ]
  },
  {
   "cell_type": "markdown",
   "metadata": {
    "colab_type": "text",
    "id": "KwK-eZWAYwC7"
   },
   "source": [
    "Despite optimal parameters (e.g. for xgboost) can be found on the web, we still want you to use grid/random search (or any other approach) to approximate them by yourself.\n",
    "\n",
    "Please try at least several models of different structure.\n",
    "\n",
    "Provide the following to describe your path:\n",
    "\n",
    "* Plot describing the model accuracy/precision/recall w.r.t. model complexity.\n",
    "* ROC-AUC plot for the 3 best models you aquired (for multiclass case you might refer to the `scikit-plot` library.\n",
    "* Small report describing your experiments.\n",
    "\n",
    "[DART](https://arxiv.org/abs/1505.01866) might be useful as well in your experiments. It is available in [xgboost](https://xgboost.readthedocs.io/en/latest/tutorials/dart.html) and [LightGBM](https://lightgbm.readthedocs.io/en/latest/Parameters.html), but seems [missing in CatBoost](https://github.com/catboost/catboost/issues/1006).\n",
    "\n",
    "__Without the report and plots maximum score for this part of the lab is 0.3 of its full weight.__"
   ]
  },
  {
   "cell_type": "markdown",
   "metadata": {
    "colab_type": "text",
    "id": "Zw1_Ey8BYwC7"
   },
   "source": [
    "### Решение."
   ]
  },
  {
   "cell_type": "code",
   "execution_count": 18,
   "metadata": {
    "colab": {},
    "colab_type": "code",
    "id": "LPiABcIGYwC8"
   },
   "outputs": [],
   "source": [
    "def calculate_metrics(y_true, y_pred):\n",
    "    print('Accuracy: {}'.format(accuracy_score(y_test, y_pred)))\n",
    "    print('Precision: {}'.format(precision_score(y_test, y_pred, average='macro')))\n",
    "    print('Recall: {}'.format(recall_score(y_test, y_pred, average='macro')))\n",
    "    print('F1: {}'.format(f1_score(y_test, y_pred, average='macro')))"
   ]
  },
  {
   "cell_type": "markdown",
   "metadata": {
    "colab_type": "text",
    "id": "vMCOwZxJYwC_"
   },
   "source": [
    "Для начала построим `baseline` модель, в дальнейшем можно будет смотреть, каких улучшений мы смогли добиться.  \n",
    "В данном случае, у нас задача классификация на 6 классов, самый простой способ - использовать логистическую регрессию.  \n",
    "Для подбора оптимальных параметров воспользуемся поиском по сетке.  \n",
    "Вспомним, что в данных очень много фичей, но на качество логистической регрессии это не должно сильно влиять.  \n",
    "Но все равно, построим модель и для исходных данных, и для данных, к которым применили PCA."
   ]
  },
  {
   "cell_type": "markdown",
   "metadata": {
    "colab_type": "text",
    "id": "Dk5emrlhYwDA"
   },
   "source": [
    "Логистическая регрессия, данные без PCA"
   ]
  },
  {
   "cell_type": "code",
   "execution_count": 0,
   "metadata": {
    "colab": {},
    "colab_type": "code",
    "id": "iVrb7zYDYwDA",
    "outputId": "96c074b0-2a66-40d4-d1c3-d27b847d3719"
   },
   "outputs": [
    {
     "name": "stdout",
     "output_type": "stream",
     "text": [
      "Fitting 5 folds for each of 14 candidates, totalling 70 fits\n"
     ]
    },
    {
     "name": "stderr",
     "output_type": "stream",
     "text": [
      "[Parallel(n_jobs=-1)]: Using backend LokyBackend with 4 concurrent workers.\n",
      "[Parallel(n_jobs=-1)]: Done   5 tasks      | elapsed:    0.6s\n",
      "[Parallel(n_jobs=-1)]: Done  10 tasks      | elapsed:    0.9s\n",
      "[Parallel(n_jobs=-1)]: Done  17 tasks      | elapsed:  1.8min\n",
      "[Parallel(n_jobs=-1)]: Done  24 tasks      | elapsed:  3.9min\n",
      "[Parallel(n_jobs=-1)]: Done  33 tasks      | elapsed:  6.1min\n",
      "[Parallel(n_jobs=-1)]: Done  42 tasks      | elapsed:  9.4min\n",
      "[Parallel(n_jobs=-1)]: Done  53 tasks      | elapsed: 13.9min\n",
      "[Parallel(n_jobs=-1)]: Done  70 out of  70 | elapsed: 19.7min finished\n"
     ]
    },
    {
     "name": "stdout",
     "output_type": "stream",
     "text": [
      "Accuracy: 0.9453681710213777\n",
      "Precision: 0.948886557528129\n",
      "Recall: 0.9445512640047307\n",
      "F1: 0.9457312122044318\n"
     ]
    },
    {
     "name": "stderr",
     "output_type": "stream",
     "text": [
      "/home/egor/anaconda3/envs/mipt-stats/lib/python3.7/site-packages/sklearn/linear_model/_sag.py:330: ConvergenceWarning: The max_iter was reached which means the coef_ did not converge\n",
      "  \"the coef_ did not converge\", ConvergenceWarning)\n"
     ]
    }
   ],
   "source": [
    "logreg_pipe = Pipeline([('sc', StandardScaler()),\n",
    "                        ('clf', LogisticRegression(max_iter=500, solver='saga', random_state=42))])\n",
    "\n",
    "logreg_params = {'clf__penalty' : ['l1', 'l2'],\n",
    "                 'clf__C' : [0, 0.001, 0.01, 0.1, 1, 10, 100]}\n",
    "\n",
    "logreg_pipe = GridSearchCV(logreg_pipe, logreg_params, n_jobs=-1, verbose=10)\n",
    "logreg_pipe.fit(X_train, y_train)\n",
    "logreg_model = logreg_pipe.best_estimator_\n",
    "\n",
    "calculate_metrics(y_test, logreg_model.predict(X_test))"
   ]
  },
  {
   "cell_type": "code",
   "execution_count": 0,
   "metadata": {
    "colab": {},
    "colab_type": "code",
    "id": "G1dB4OIJYwDE"
   },
   "outputs": [],
   "source": [
    "pickle.dump(logreg_model, open('models/logreg.sav', 'wb'))"
   ]
  },
  {
   "cell_type": "markdown",
   "metadata": {
    "colab_type": "text",
    "id": "hQvL5Zt6YwDH"
   },
   "source": [
    "Как видно, мы получили очень хорошее качество. Давайте посмотрим, сколько фичей наша модель посчитала ненужными и занулила коэффициенты перед ними."
   ]
  },
  {
   "cell_type": "code",
   "execution_count": 0,
   "metadata": {
    "colab": {},
    "colab_type": "code",
    "id": "7pRhRF9XYwDI",
    "outputId": "e9e6d04b-bdad-4434-e2cf-d937f6769bee"
   },
   "outputs": [
    {
     "name": "stdout",
     "output_type": "stream",
     "text": [
      "Количество фичей с нулевыми коэффициентами: 1515\n"
     ]
    }
   ],
   "source": [
    "print('Количество фичей с нулевыми коэффициентами: {}'.format((logreg_model.steps[1][1].coef_ == 0).sum()))"
   ]
  },
  {
   "cell_type": "markdown",
   "metadata": {
    "colab_type": "text",
    "id": "92rD1xfoYwDL"
   },
   "source": [
    "То есть в среднем, в каждой из моделей (т.к. классификация на 6 классов, то моделей 6) по 250 признаков оказались зануленными."
   ]
  },
  {
   "cell_type": "markdown",
   "metadata": {
    "colab_type": "text",
    "id": "21j0nsiuYwDM"
   },
   "source": [
    "Логистическая регрессия, данные с PCA"
   ]
  },
  {
   "cell_type": "code",
   "execution_count": 0,
   "metadata": {
    "colab": {},
    "colab_type": "code",
    "id": "_p7nRk4-YwDM",
    "outputId": "0e70e1cf-f424-43bf-fc33-5a1bd28f1b6b"
   },
   "outputs": [
    {
     "name": "stdout",
     "output_type": "stream",
     "text": [
      "Fitting 5 folds for each of 14 candidates, totalling 70 fits\n"
     ]
    },
    {
     "name": "stderr",
     "output_type": "stream",
     "text": [
      "[Parallel(n_jobs=-1)]: Using backend LokyBackend with 4 concurrent workers.\n",
      "[Parallel(n_jobs=-1)]: Done   5 tasks      | elapsed:    3.6s\n",
      "[Parallel(n_jobs=-1)]: Done  10 tasks      | elapsed:    6.6s\n",
      "[Parallel(n_jobs=-1)]: Done  17 tasks      | elapsed:   36.2s\n",
      "[Parallel(n_jobs=-1)]: Done  24 tasks      | elapsed:  1.3min\n",
      "[Parallel(n_jobs=-1)]: Done  33 tasks      | elapsed:  2.0min\n",
      "[Parallel(n_jobs=-1)]: Done  42 tasks      | elapsed:  2.9min\n",
      "[Parallel(n_jobs=-1)]: Done  53 tasks      | elapsed:  4.3min\n",
      "[Parallel(n_jobs=-1)]: Done  70 out of  70 | elapsed:  6.4min finished\n"
     ]
    },
    {
     "name": "stdout",
     "output_type": "stream",
     "text": [
      "Accuracy: 0.9426535459789617\n",
      "Precision: 0.9459328526954619\n",
      "Recall: 0.9417260033543497\n",
      "F1: 0.9429666723330435\n"
     ]
    },
    {
     "name": "stderr",
     "output_type": "stream",
     "text": [
      "/home/egor/anaconda3/envs/mipt-stats/lib/python3.7/site-packages/sklearn/linear_model/_sag.py:330: ConvergenceWarning: The max_iter was reached which means the coef_ did not converge\n",
      "  \"the coef_ did not converge\", ConvergenceWarning)\n"
     ]
    }
   ],
   "source": [
    "logreg_pca_pipe = Pipeline([('sc', StandardScaler()),\n",
    "                            ('pca', PCA(0.99)),\n",
    "                            ('clf', LogisticRegression(max_iter=500, solver='saga', random_state=42))])\n",
    "\n",
    "logreg_pca_params = {'clf__penalty' : ['l1', 'l2'],\n",
    "                     'clf__C' : [0, 0.001, 0.01, 0.1, 1, 10, 100]}\n",
    "\n",
    "logreg_pca_pipe = GridSearchCV(logreg_pca_pipe, logreg_pca_params, n_jobs=-1, verbose=10)\n",
    "logreg_pca_pipe.fit(X_train, y_train)\n",
    "logreg_pca_model = logreg_pca_pipe.best_estimator_\n",
    "\n",
    "calculate_metrics(y_test, logreg_pca_model.predict(X_test))"
   ]
  },
  {
   "cell_type": "code",
   "execution_count": 0,
   "metadata": {
    "colab": {},
    "colab_type": "code",
    "id": "XrFRegvzYwDP"
   },
   "outputs": [],
   "source": [
    "pickle.dump(logreg_pca_model, open('models/logreg_pca.sav', 'wb'))"
   ]
  },
  {
   "cell_type": "markdown",
   "metadata": {
    "colab_type": "text",
    "id": "Mm3Ft78QYwDS"
   },
   "source": [
    "Обученные модели логистической регрессии показали очень хорошее качество, причем модель с PCA обучается в 3 раза быстрее, а прирост совсем незначительный."
   ]
  },
  {
   "cell_type": "markdown",
   "metadata": {
    "colab_type": "text",
    "id": "7FZXaZYEYwDT"
   },
   "source": [
    "Когда говорим о логистической регрессии, нельзя говорить о сложности модели, потому что гиперпараметры не усложняют модель.  \n",
    "Поэтому графиков зависимости метрик от сложности моделей не будет начерчено, но `roc-auc` кривые построить можно."
   ]
  },
  {
   "cell_type": "code",
   "execution_count": 0,
   "metadata": {
    "colab": {},
    "colab_type": "code",
    "id": "gueFluUPYwDT",
    "outputId": "c9907926-5ee6-44dd-991d-1ebfe9352441"
   },
   "outputs": [
    {
     "data": {
      "text/plain": [
       "<Figure size 1440x720 with 0 Axes>"
      ]
     },
     "metadata": {
      "tags": []
     },
     "output_type": "display_data"
    },
    {
     "data": {
      "image/png": "[encoded data removed]",
      "text/plain": [
       "<Figure size 1152x648 with 1 Axes>"
      ]
     },
     "metadata": {
      "needs_background": "light",
      "tags": []
     },
     "output_type": "display_data"
    },
    {
     "data": {
      "image/png": "[encoded data removed]",
      "text/plain": [
       "<Figure size 1152x648 with 1 Axes>"
      ]
     },
     "metadata": {
      "needs_background": "light",
      "tags": []
     },
     "output_type": "display_data"
    }
   ],
   "source": [
    "models = [logreg_model, logreg_pca_model]\n",
    "titles = ['Logistic regression', 'Logistic regression with PCA']\n",
    "\n",
    "plt.figure(figsize=(20, 10))\n",
    "for i in range(2):\n",
    "    skplt.metrics.plot_roc(y_test, models[i].predict_proba(X_test), figsize=(16, 9))\n",
    "    plt.title(titles[i])\n",
    "    plt.show()"
   ]
  },
  {
   "cell_type": "markdown",
   "metadata": {
    "colab_type": "text",
    "id": "ZAILDGUIYwDX"
   },
   "source": [
    "Как видно, площадь под кривыми почти равна единице по всем классам - это очень хороший результат, при этом для обучения обеих моделей не потребовалось никаких нетривиальных действий."
   ]
  },
  {
   "cell_type": "markdown",
   "metadata": {
    "colab_type": "text",
    "id": "1M4dnl5uYwDX"
   },
   "source": [
    "***С этого момента буду пробовать модели, основанные на деревьях***"
   ]
  },
  {
   "cell_type": "markdown",
   "metadata": {
    "colab_type": "text",
    "id": "0j5rfLnqYwDY"
   },
   "source": [
    "Начнем с более простой модели - `Random Forest`.  \n",
    "Как известно, эта модель представляет из себя композицию переобученных решающих деревьев, каждое из которых обучается независимо, а итоговое предсказание - среднее по всем деревьям.  \n",
    "В случае классификации будут усредняться вероятности, и ответ будет предсказываться как `argmax` по всем классам.  \n",
    "В случае `Random Forest` данные не нуждаются в стандартизации.  \n",
    "С увеличением количества деревьев время обучения линейно увеличивается, при этом начиная с какого-то количества качество перестает расти.  \n",
    "Поэтому при обучении заранее выберу количество деревьев, равное 200."
   ]
  },
  {
   "cell_type": "code",
   "execution_count": 0,
   "metadata": {
    "colab": {},
    "colab_type": "code",
    "id": "t8tJlihLYwDZ",
    "outputId": "671bea75-b9c8-47ac-f193-f1c5f180d11e"
   },
   "outputs": [
    {
     "name": "stdout",
     "output_type": "stream",
     "text": [
      "Fitting 3 folds for each of 48 candidates, totalling 144 fits\n"
     ]
    },
    {
     "name": "stderr",
     "output_type": "stream",
     "text": [
      "[Parallel(n_jobs=-1)]: Using backend LokyBackend with 4 concurrent workers.\n",
      "[Parallel(n_jobs=-1)]: Done  24 tasks      | elapsed:  1.0min\n",
      "[Parallel(n_jobs=-1)]: Done 120 tasks      | elapsed:  9.2min\n",
      "[Parallel(n_jobs=-1)]: Done 144 out of 144 | elapsed: 12.0min finished\n"
     ]
    },
    {
     "name": "stdout",
     "output_type": "stream",
     "text": [
      "Accuracy: 0.9351883271123176\n",
      "Precision: 0.9362156082032623\n",
      "Recall: 0.9316985985610508\n",
      "F1: 0.932952771409933\n"
     ]
    }
   ],
   "source": [
    "rf_params = {'criterion' : ['gini', 'entropy'],\n",
    "             'max_depth' : np.arange(5, 20, 2),\n",
    "             'min_samples_split' : [2, 4, 6]}\n",
    "\n",
    "rf_pipe = GridSearchCV(RandomForestClassifier(n_estimators=200, random_state=42), rf_params, n_jobs=-1, verbose=3, cv=3)\n",
    "rf_pipe.fit(X_train, y_train)\n",
    "rf_model = rf_pipe.best_estimator_\n",
    "\n",
    "calculate_metrics(y_test, rf_model.predict(X_test))"
   ]
  },
  {
   "cell_type": "code",
   "execution_count": 0,
   "metadata": {
    "colab": {},
    "colab_type": "code",
    "id": "CNUOvmJ7YwDd"
   },
   "outputs": [],
   "source": [
    "pickle.dump(rf_model, open('models/rf.sav', 'wb'))"
   ]
  },
  {
   "cell_type": "markdown",
   "metadata": {
    "colab_type": "text",
    "id": "mvWMp_p6YwDg"
   },
   "source": [
    "Как видно, решающий лес классифицирует хуже, чем логистическая регрессия.  \n",
    "Тут можно вспомнить, что при разбиении вершины рандомно генерируется $\\sqrt{d}$ признаков.  \n",
    "Учитывая, что в нашем датасете признаков 540, из которых даже логистическая регрессия занулила порядка 200, можно сделать предположение, что многие из них могут быть бесполезными.  \n",
    "А значит, при разбиении велик шанс, что из примерно 23 выбранных признаков, они окажутся не сильно значимыми.  \n",
    "И если в дереве такое будет случаться часто, то оно будет предсказывать достаточно плохо, и общее качество предсказаний ухудшится.  \n",
    "Поэтому в данном случае может помочь PCA, он оставит меньшее число признаков, при этом количество перебираемых уменьшится в $\\sqrt{t}$ раз, где $t$ - отношение числа признаков в исходном датасете к числу признаков в датасете, к которому применили PCA.  \n",
    "Из того, что число перебираемых признаков уменьшается не линейно, а как корень, RF с PCA выглядит более выгодно."
   ]
  },
  {
   "cell_type": "code",
   "execution_count": 0,
   "metadata": {
    "colab": {},
    "colab_type": "code",
    "id": "7hC154ONYwDh",
    "outputId": "0e273207-7f25-47e5-a479-2ce1c57742af"
   },
   "outputs": [
    {
     "name": "stdout",
     "output_type": "stream",
     "text": [
      "Fitting 3 folds for each of 48 candidates, totalling 144 fits\n"
     ]
    },
    {
     "name": "stderr",
     "output_type": "stream",
     "text": [
      "[Parallel(n_jobs=-1)]: Using backend LokyBackend with 4 concurrent workers.\n",
      "[Parallel(n_jobs=-1)]: Done  24 tasks      | elapsed:   54.8s\n",
      "[Parallel(n_jobs=-1)]: Done 120 tasks      | elapsed:  9.0min\n",
      "[Parallel(n_jobs=-1)]: Done 144 out of 144 | elapsed: 12.5min finished\n"
     ]
    },
    {
     "name": "stdout",
     "output_type": "stream",
     "text": [
      "Accuracy: 0.8941296233457754\n",
      "Precision: 0.8979842953822348\n",
      "Recall: 0.889232169220444\n",
      "F1: 0.890387797348068\n"
     ]
    }
   ],
   "source": [
    "rf_pca_pipe = Pipeline([('sc', StandardScaler()),\n",
    "                        ('pca', PCA(0.99)),\n",
    "                        ('clf', RandomForestClassifier(n_estimators=200, random_state=42))])\n",
    "\n",
    "rf_pca_params = {'clf__criterion' : ['gini', 'entropy'],\n",
    "                 'clf__max_depth' : np.arange(5, 20, 2),\n",
    "                 'clf__min_samples_split' : [2, 4, 6]}\n",
    "\n",
    "rf_pca_pipe = GridSearchCV(rf_pca_pipe, rf_pca_params, n_jobs=-1, verbose=3, cv=3)\n",
    "rf_pca_pipe.fit(X_train, y_train)\n",
    "rf_pca_model = rf_pca_pipe.best_estimator_\n",
    "\n",
    "calculate_metrics(y_test, rf_pca_model.predict(X_test))"
   ]
  },
  {
   "cell_type": "code",
   "execution_count": 0,
   "metadata": {
    "colab": {},
    "colab_type": "code",
    "id": "7244j-eJYwDj"
   },
   "outputs": [],
   "source": [
    "pickle.dump(rf_pca_model, open('models/rf_pca.sav', 'wb'))"
   ]
  },
  {
   "cell_type": "markdown",
   "metadata": {
    "colab_type": "text",
    "id": "xrq3xbxZYwDm"
   },
   "source": [
    "Как видно, предположения выше не подтвердились :С"
   ]
  },
  {
   "cell_type": "markdown",
   "metadata": {
    "colab_type": "text",
    "id": "bippD-HmYwDm"
   },
   "source": [
    "Построим `roc-auc` кривую для `Random Forest` без PCA"
   ]
  },
  {
   "cell_type": "code",
   "execution_count": 0,
   "metadata": {
    "colab": {},
    "colab_type": "code",
    "id": "pwZe9uSfYwDn",
    "outputId": "d430e620-2bc9-41d4-e949-b3515b379f81"
   },
   "outputs": [
    {
     "data": {
      "text/plain": [
       "<Figure size 864x576 with 0 Axes>"
      ]
     },
     "metadata": {
      "tags": []
     },
     "output_type": "display_data"
    },
    {
     "data": {
      "image/png": "[encoded data removed]",
      "text/plain": [
       "<Figure size 1152x648 with 1 Axes>"
      ]
     },
     "metadata": {
      "needs_background": "light",
      "tags": []
     },
     "output_type": "display_data"
    }
   ],
   "source": [
    "plt.figure(figsize=(12, 8))\n",
    "skplt.metrics.plot_roc(y_test, rf_pca_model.predict_proba(X_test), figsize=(16, 9))\n",
    "plt.title('Random forest roc-auc')\n",
    "plt.show()"
   ]
  },
  {
   "cell_type": "markdown",
   "metadata": {
    "colab_type": "text",
    "id": "nknxUYOxYwDq"
   },
   "source": [
    "Выглядит тоже неплохо, но хуже чем у логистической регрессии."
   ]
  },
  {
   "cell_type": "markdown",
   "metadata": {
    "colab_type": "text",
    "id": "02CwWhVrYwDq"
   },
   "source": [
    "Наиболее логично измерять сложность `RF` по двум критериям: максимальной глубине и количеству деревьев.  \n",
    "Количество деревьев напрямую влияет на скорость обучения и предсказывания, максимальная глубина - на то, насколько сложные зависимости мы вообще способны предсказывать.\n",
    "Параметры, касающиеся `stop`-моментов (когда нельзя делить вершину на дочерние), достаточно сильно коррелируют с максимальной глубиной, а ее измерить проще.  \n",
    "Параметр `max features` можно тоже отнести к сложности, но на самом деле он не влияет напрямую -- он вносит элемент случайности в построение деревьев, делая деревья более разными. И при любом его значении (отличным от 1), можно получить одну и ту же композицию деревьев, поэтому не буду рассматривать его в сложности."
   ]
  },
  {
   "cell_type": "code",
   "execution_count": 10,
   "metadata": {
    "colab": {},
    "colab_type": "code",
    "id": "T2OgAAf9YwDr"
   },
   "outputs": [],
   "source": [
    "def plot_dependence(model, params, param_name, grid):\n",
    "    '''\n",
    "    Рисует зависимость метрики от значения параметра param_name по grid\n",
    "    model : model or pipeline\n",
    "    '''\n",
    "    accuracy = []\n",
    "    recall = []\n",
    "    precision = []\n",
    "    f1 = []\n",
    "    for value in tqdm(grid):\n",
    "        params[param_name] = value\n",
    "        md = model(**params)\n",
    "        md.fit(X_train, y_train)\n",
    "        \n",
    "        accuracy.append(accuracy_score(y_test, md.predict(X_test)))\n",
    "        recall.append(recall_score(y_test, md.predict(X_test), average='macro'))\n",
    "        precision.append(precision_score(y_test, md.predict(X_test), average='macro'))\n",
    "        f1.append(f1_score(y_test, md.predict(X_test), average='macro'))\n",
    "        \n",
    "    plt.plot(grid, accuracy, label='accuracy')\n",
    "    plt.plot(grid, recall, label='recall')\n",
    "    plt.plot(grid, precision, label='precision')\n",
    "    plt.plot(grid, f1, label='f1')\n",
    "    plt.xlabel(param_name)\n",
    "    plt.ylabel('Значение метрики')\n",
    "    plt.title('Зависимость метрик от {}'.format(param_name))\n",
    "    plt.legend()"
   ]
  },
  {
   "cell_type": "markdown",
   "metadata": {
    "colab_type": "text",
    "id": "Q6UFgTurYwDu"
   },
   "source": [
    "Построим зависимость метрик от количества деревьев."
   ]
  },
  {
   "cell_type": "code",
   "execution_count": 0,
   "metadata": {
    "colab": {
     "referenced_widgets": [
      "756e2149f9d740dda735f64690e15e95"
     ]
    },
    "colab_type": "code",
    "id": "hHnEtBbSYwDu",
    "outputId": "8f5cd4dd-bb5a-4665-d5e9-2346db3290ca"
   },
   "outputs": [
    {
     "data": {
      "application/vnd.jupyter.widget-view+json": {
       "model_id": "756e2149f9d740dda735f64690e15e95",
       "version_major": 2,
       "version_minor": 0
      },
      "text/plain": [
       "HBox(children=(FloatProgress(value=0.0, max=40.0), HTML(value='')))"
      ]
     },
     "metadata": {
      "tags": []
     },
     "output_type": "display_data"
    },
    {
     "name": "stdout",
     "output_type": "stream",
     "text": [
      "\n"
     ]
    },
    {
     "data": {
      "image/png": "[encoded data removed]",
      "text/plain": [
       "<Figure size 1152x648 with 1 Axes>"
      ]
     },
     "metadata": {
      "needs_background": "light",
      "tags": []
     },
     "output_type": "display_data"
    }
   ],
   "source": [
    "params = {'n_estimators' : 200,\n",
    "          'random_state' : 42, \n",
    "          'criterion' : 'entropy',\n",
    "          'max_depth' : 15,\n",
    "          'min_samples_split' : 4,\n",
    "          'n_jobs' : -1}\n",
    "\n",
    "plt.figure(figsize=(16, 9))\n",
    "plot_dependence(RandomForestClassifier, \n",
    "                params, \n",
    "                'n_estimators',\n",
    "                np.arange(1, 200, 5))\n",
    "plt.show()"
   ]
  },
  {
   "cell_type": "markdown",
   "metadata": {
    "colab_type": "text",
    "id": "_Fwr0g5RYwDy"
   },
   "source": [
    "Как Видно, начиная со 110 деревьев не видно существенного прироста.  \n",
    "Поэтому 200 деревьев даже много для данной задачи, можно было остановиться на ~100."
   ]
  },
  {
   "cell_type": "code",
   "execution_count": 0,
   "metadata": {
    "colab": {
     "referenced_widgets": [
      "0d41cee5467343c8923365d802f40f4a"
     ]
    },
    "colab_type": "code",
    "id": "EwAAYR-LYwDz",
    "outputId": "8a9d6409-5d33-4f51-a71c-17d80def39c1"
   },
   "outputs": [
    {
     "data": {
      "application/vnd.jupyter.widget-view+json": {
       "model_id": "0d41cee5467343c8923365d802f40f4a",
       "version_major": 2,
       "version_minor": 0
      },
      "text/plain": [
       "HBox(children=(FloatProgress(value=0.0, max=17.0), HTML(value='')))"
      ]
     },
     "metadata": {
      "tags": []
     },
     "output_type": "display_data"
    },
    {
     "name": "stdout",
     "output_type": "stream",
     "text": [
      "\n"
     ]
    },
    {
     "data": {
      "image/png": "[encoded data removed]",
      "text/plain": [
       "<Figure size 1152x648 with 1 Axes>"
      ]
     },
     "metadata": {
      "needs_background": "light",
      "tags": []
     },
     "output_type": "display_data"
    }
   ],
   "source": [
    "plt.figure(figsize=(16, 9))\n",
    "\n",
    "plot_dependence(RandomForestClassifier, \n",
    "                params, \n",
    "                'max_depth',\n",
    "                np.arange(3, 20, 1))\n",
    "\n",
    "plt.show()"
   ]
  },
  {
   "cell_type": "markdown",
   "metadata": {
    "colab_type": "text",
    "id": "AEnZ_ZxCYwD2"
   },
   "source": [
    "Как видно, при маленькой глубине деревья оказываются недообученными, а потом метрика увеличивается, и в какой-то момент начинает почти не меняться. При это на глубине 15 метрика получается наилучшей."
   ]
  },
  {
   "cell_type": "markdown",
   "metadata": {
    "colab_type": "text",
    "id": "08z-gBzcYwD2"
   },
   "source": [
    "##### Настало время бустингов  \n",
    "Чтобы быстрее обучать модели, буду использовать GPU на colab  \n",
    "Но от этого результаты станут менее воспроизводимыми, но значения метрик будут менять очень несущественно."
   ]
  },
  {
   "cell_type": "markdown",
   "metadata": {
    "colab_type": "text",
    "id": "R23YWw64YwD3"
   },
   "source": [
    "***XGBoost***"
   ]
  },
  {
   "cell_type": "markdown",
   "metadata": {
    "colab_type": "text",
    "id": "_VEehT-5ezUo"
   },
   "source": [
    "Перебирать все параметры по сетке -- очень долго, будем делать это последовательно"
   ]
  },
  {
   "cell_type": "code",
   "execution_count": 0,
   "metadata": {
    "colab": {},
    "colab_type": "code",
    "id": "6V05SARvd5mY"
   },
   "outputs": [],
   "source": [
    "xgb_params = {\"num_class\": 6, \n",
    "              \"booster\": \"gbtree\",\n",
    "              \"n_estimators\": 1000,\n",
    "              \"learning_rate\": 0.1,\n",
    "              \"max_depth\": 5,\n",
    "              \"min_child_weight\": 1,\n",
    "              \"gamma\": 0.1,\n",
    "              \"subsample\": 0.8,\n",
    "              \"colsample_bytree\": 0.8,\n",
    "              \"tree_method\" : 'gpu_hist',\n",
    "              \"nthread\" : -1}"
   ]
  },
  {
   "cell_type": "markdown",
   "metadata": {
    "colab_type": "text",
    "id": "a67XzvktfAHW"
   },
   "source": [
    "Сначала определим оптимальное количество деревьев: то, после которого уже начинается переобучение."
   ]
  },
  {
   "cell_type": "code",
   "execution_count": 0,
   "metadata": {
    "colab": {},
    "colab_type": "code",
    "id": "sRQc3s58ex6p"
   },
   "outputs": [],
   "source": [
    "xgtrain = xgb.DMatrix(X_train, y_train)\n",
    "xgtest = xgb.DMatrix(X_test, y_test)\n",
    "evallist = [(xgtest, 'eval'), (xgtrain, 'train')]"
   ]
  },
  {
   "cell_type": "code",
   "execution_count": 0,
   "metadata": {
    "colab": {
     "base_uri": "https://localhost:8080/",
     "height": 53
    },
    "colab_type": "code",
    "id": "CkuRxoDyYwD5",
    "outputId": "c48636a7-6ccd-4edb-eb08-0041b6f949c0"
   },
   "outputs": [
    {
     "name": "stdout",
     "output_type": "stream",
     "text": [
      "CPU times: user 49.2 s, sys: 30.6 s, total: 1min 19s\n",
      "Wall time: 1min 19s\n"
     ]
    }
   ],
   "source": [
    "%%time\n",
    "xgb_model = XGBClassifier()\n",
    "cvresult = xgb.cv(xgb_params, \n",
    "                  xgtrain, \n",
    "                  num_boost_round=xgb_params['n_estimators'],\n",
    "                  nfold=5, early_stopping_rounds=30)\n",
    "# xgb_model = XGBClassifier(silent=True, max_depth=10, n_estimators=100, n_jobs=-1, tree_method='gpu_hist', )\n",
    "# xgb_model.fit(X_train, y_train)"
   ]
  },
  {
   "cell_type": "code",
   "execution_count": 0,
   "metadata": {
    "colab": {
     "base_uri": "https://localhost:8080/",
     "height": 159
    },
    "colab_type": "code",
    "id": "sIGGZtjZhezb",
    "outputId": "65861b1c-42cd-4e33-dba1-33a5b4ff7132"
   },
   "outputs": [
    {
     "data": {
      "text/html": [
       "<div>\n",
       "<style scoped>\n",
       "    .dataframe tbody tr th:only-of-type {\n",
       "        vertical-align: middle;\n",
       "    }\n",
       "\n",
       "    .dataframe tbody tr th {\n",
       "        vertical-align: top;\n",
       "    }\n",
       "\n",
       "    .dataframe thead th {\n",
       "        text-align: right;\n",
       "    }\n",
       "</style>\n",
       "<table border=\"1\" class=\"dataframe\">\n",
       "  <thead>\n",
       "    <tr style=\"text-align: right;\">\n",
       "      <th></th>\n",
       "      <th>train-merror-mean</th>\n",
       "      <th>train-merror-std</th>\n",
       "      <th>test-merror-mean</th>\n",
       "      <th>test-merror-std</th>\n",
       "    </tr>\n",
       "  </thead>\n",
       "  <tbody>\n",
       "    <tr>\n",
       "      <th>203</th>\n",
       "      <td>0.0</td>\n",
       "      <td>0.0</td>\n",
       "      <td>0.006936</td>\n",
       "      <td>0.001572</td>\n",
       "    </tr>\n",
       "    <tr>\n",
       "      <th>204</th>\n",
       "      <td>0.0</td>\n",
       "      <td>0.0</td>\n",
       "      <td>0.007072</td>\n",
       "      <td>0.001750</td>\n",
       "    </tr>\n",
       "    <tr>\n",
       "      <th>205</th>\n",
       "      <td>0.0</td>\n",
       "      <td>0.0</td>\n",
       "      <td>0.006800</td>\n",
       "      <td>0.001424</td>\n",
       "    </tr>\n",
       "  </tbody>\n",
       "</table>\n",
       "</div>"
      ],
      "text/plain": [
       "     train-merror-mean  train-merror-std  test-merror-mean  test-merror-std\n",
       "203                0.0               0.0          0.006936         0.001572\n",
       "204                0.0               0.0          0.007072         0.001750\n",
       "205                0.0               0.0          0.006800         0.001424"
      ]
     },
     "execution_count": 72,
     "metadata": {
      "tags": []
     },
     "output_type": "execute_result"
    }
   ],
   "source": [
    "cvresult[-3:]"
   ]
  },
  {
   "cell_type": "markdown",
   "metadata": {
    "colab_type": "text",
    "id": "w7ML-Vbliw2U"
   },
   "source": [
    "После добавления 206 дерева метрика перестала падать, поэтому выберем `n_estimators` = 205"
   ]
  },
  {
   "cell_type": "markdown",
   "metadata": {
    "colab_type": "text",
    "id": "ydmivDeFi9QW"
   },
   "source": [
    "Настроим параметры `max_depth` и `min_child_weight`, они наиболее сильно влияют на итоговое качество"
   ]
  },
  {
   "cell_type": "code",
   "execution_count": 0,
   "metadata": {
    "colab": {},
    "colab_type": "code",
    "id": "DTV72l_RjLRv"
   },
   "outputs": [],
   "source": [
    "param_grid = {\n",
    "    \"max_depth\" : range(3, 7),\n",
    "    \"min_child_weight\" : range(1, 6)\n",
    "}\n",
    "\n",
    "xgb_params = {\"num_class\": 6, \n",
    "              \"booster\": \"gbtree\",\n",
    "              \"n_estimators\": 205,\n",
    "              \"learning_rate\": 0.1,\n",
    "              \"gamma\": 0.1,\n",
    "              \"subsample\": 0.8,\n",
    "              \"colsample_bytree\": 0.8,\n",
    "              \"tree_method\" : 'gpu_hist',\n",
    "              \"nthread\" : -1}"
   ]
  },
  {
   "cell_type": "code",
   "execution_count": 0,
   "metadata": {
    "colab": {
     "base_uri": "https://localhost:8080/",
     "height": 595
    },
    "colab_type": "code",
    "id": "CLKl4Zh1jqKG",
    "outputId": "4d8cb384-18ac-49f0-cfc3-bd7177820280"
   },
   "outputs": [
    {
     "name": "stdout",
     "output_type": "stream",
     "text": [
      "Fitting 3 folds for each of 20 candidates, totalling 60 fits\n"
     ]
    },
    {
     "name": "stderr",
     "output_type": "stream",
     "text": [
      "[Parallel(n_jobs=4)]: Using backend LokyBackend with 4 concurrent workers.\n",
      "[Parallel(n_jobs=4)]: Done   5 tasks      | elapsed:  1.4min\n",
      "[Parallel(n_jobs=4)]: Done  10 tasks      | elapsed:  2.1min\n",
      "/usr/local/lib/python3.6/dist-packages/joblib/externals/loky/process_executor.py:706: UserWarning: A worker stopped while some jobs were given to the executor. This can be caused by a too short worker timeout or by a memory leak.\n",
      "  \"timeout or by a memory leak.\", UserWarning\n",
      "[Parallel(n_jobs=4)]: Done  17 tasks      | elapsed:  3.5min\n",
      "[Parallel(n_jobs=4)]: Done  24 tasks      | elapsed:  4.4min\n",
      "[Parallel(n_jobs=4)]: Done  33 tasks      | elapsed:  6.5min\n",
      "[Parallel(n_jobs=4)]: Done  42 tasks      | elapsed:  8.1min\n",
      "[Parallel(n_jobs=4)]: Done  53 tasks      | elapsed: 10.4min\n",
      "[Parallel(n_jobs=4)]: Done  60 out of  60 | elapsed: 11.5min remaining:    0.0s\n",
      "[Parallel(n_jobs=4)]: Done  60 out of  60 | elapsed: 11.5min finished\n"
     ]
    },
    {
     "data": {
      "text/plain": [
       "GridSearchCV(cv=3, error_score=nan,\n",
       "             estimator=XGBClassifier(base_score=0.5, booster='gbtree',\n",
       "                                     colsample_bylevel=1, colsample_bynode=1,\n",
       "                                     colsample_bytree=0.8, gamma=0.1,\n",
       "                                     learning_rate=0.1, max_delta_step=0,\n",
       "                                     max_depth=3, min_child_weight=1,\n",
       "                                     missing=None, n_estimators=205, n_jobs=1,\n",
       "                                     nthread=-1, num_class=6,\n",
       "                                     objective='binary:logistic',\n",
       "                                     random_state=0, reg_alpha=0, reg_lambda=1,\n",
       "                                     scale_pos_weight=1, seed=None, silent=None,\n",
       "                                     subsample=0.8, tree_method='gpu_hist',\n",
       "                                     verbosity=1),\n",
       "             iid='deprecated', n_jobs=4,\n",
       "             param_grid={'max_depth': range(3, 7),\n",
       "                         'min_child_weight': range(1, 6)},\n",
       "             pre_dispatch='2*n_jobs', refit=True, return_train_score=False,\n",
       "             scoring='accuracy', verbose=10)"
      ]
     },
     "execution_count": 78,
     "metadata": {
      "tags": []
     },
     "output_type": "execute_result"
    }
   ],
   "source": [
    "gs = GridSearchCV(XGBClassifier(**xgb_params), param_grid, n_jobs=4, scoring='accuracy', verbose=10, cv=3)\n",
    "gs.fit(X_train, y_train)"
   ]
  },
  {
   "cell_type": "code",
   "execution_count": 0,
   "metadata": {
    "colab": {
     "base_uri": "https://localhost:8080/",
     "height": 35
    },
    "colab_type": "code",
    "id": "_EAmWG-Kmo-8",
    "outputId": "255f5dc1-1c75-4e4c-9214-bf045e14d822"
   },
   "outputs": [
    {
     "data": {
      "text/plain": [
       "{'max_depth': 4, 'min_child_weight': 5}"
      ]
     },
     "execution_count": 79,
     "metadata": {
      "tags": []
     },
     "output_type": "execute_result"
    }
   ],
   "source": [
    "gs.best_params_"
   ]
  },
  {
   "cell_type": "markdown",
   "metadata": {
    "colab_type": "text",
    "id": "s_OLIwlejra-"
   },
   "source": [
    "Теперь настроим `gamma`"
   ]
  },
  {
   "cell_type": "code",
   "execution_count": 0,
   "metadata": {
    "colab": {},
    "colab_type": "code",
    "id": "w1HLc2eimyt0"
   },
   "outputs": [],
   "source": [
    "param_grid = {\n",
    "    \"gamma\": [0, 0.1, 0.2, 0.3, 0.4, 0.5],\n",
    "}\n",
    "\n",
    "xgb_params = {\"num_class\": 6, \n",
    "              \"booster\": \"gbtree\",\n",
    "              \"n_estimators\": 205,\n",
    "              \"max_depth\" : 4,\n",
    "              \"min_child_weight\" : 5,\n",
    "              \"learning_rate\": 0.1,\n",
    "              \"subsample\": 0.8,\n",
    "              \"colsample_bytree\": 0.8,\n",
    "              \"tree_method\" : 'gpu_hist',\n",
    "              \"nthread\" : -1}"
   ]
  },
  {
   "cell_type": "code",
   "execution_count": 0,
   "metadata": {
    "colab": {
     "base_uri": "https://localhost:8080/",
     "height": 505
    },
    "colab_type": "code",
    "id": "8zpMuhcznIX2",
    "outputId": "300bb49a-a5e1-400c-e06f-ff01bc441fc0"
   },
   "outputs": [
    {
     "name": "stdout",
     "output_type": "stream",
     "text": [
      "Fitting 3 folds for each of 6 candidates, totalling 18 fits\n"
     ]
    },
    {
     "name": "stderr",
     "output_type": "stream",
     "text": [
      "[Parallel(n_jobs=4)]: Using backend LokyBackend with 4 concurrent workers.\n",
      "[Parallel(n_jobs=4)]: Done   5 tasks      | elapsed:  1.4min\n",
      "/usr/local/lib/python3.6/dist-packages/joblib/externals/loky/process_executor.py:706: UserWarning: A worker stopped while some jobs were given to the executor. This can be caused by a too short worker timeout or by a memory leak.\n",
      "  \"timeout or by a memory leak.\", UserWarning\n",
      "[Parallel(n_jobs=4)]: Done  10 tasks      | elapsed:  2.2min\n",
      "[Parallel(n_jobs=4)]: Done  13 out of  18 | elapsed:  2.9min remaining:  1.1min\n",
      "[Parallel(n_jobs=4)]: Done  15 out of  18 | elapsed:  2.9min remaining:   34.9s\n",
      "[Parallel(n_jobs=4)]: Done  18 out of  18 | elapsed:  3.3min finished\n"
     ]
    },
    {
     "data": {
      "text/plain": [
       "GridSearchCV(cv=3, error_score=nan,\n",
       "             estimator=XGBClassifier(base_score=0.5, booster='gbtree',\n",
       "                                     colsample_bylevel=1, colsample_bynode=1,\n",
       "                                     colsample_bytree=0.8, gamma=0,\n",
       "                                     learning_rate=0.1, max_delta_step=0,\n",
       "                                     max_depth=4, min_child_weight=5,\n",
       "                                     missing=None, n_estimators=205, n_jobs=1,\n",
       "                                     nthread=-1, num_class=6,\n",
       "                                     objective='binary:logistic',\n",
       "                                     random_state=0, reg_alpha=0, reg_lambda=1,\n",
       "                                     scale_pos_weight=1, seed=None, silent=None,\n",
       "                                     subsample=0.8, tree_method='gpu_hist',\n",
       "                                     verbosity=1),\n",
       "             iid='deprecated', n_jobs=4,\n",
       "             param_grid={'gamma': [0, 0.1, 0.2, 0.3, 0.4, 0.5]},\n",
       "             pre_dispatch='2*n_jobs', refit=True, return_train_score=False,\n",
       "             scoring='accuracy', verbose=10)"
      ]
     },
     "execution_count": 81,
     "metadata": {
      "tags": []
     },
     "output_type": "execute_result"
    }
   ],
   "source": [
    "gs = GridSearchCV(XGBClassifier(**xgb_params), param_grid, n_jobs=4, scoring='accuracy', verbose=10, cv=3)\n",
    "gs.fit(X_train, y_train)"
   ]
  },
  {
   "cell_type": "code",
   "execution_count": 0,
   "metadata": {
    "colab": {
     "base_uri": "https://localhost:8080/",
     "height": 35
    },
    "colab_type": "code",
    "id": "oYn0FAquoFnr",
    "outputId": "5ea02e0f-d4f5-4c29-fbaa-0dcc2d52cc8a"
   },
   "outputs": [
    {
     "data": {
      "text/plain": [
       "{'gamma': 0}"
      ]
     },
     "execution_count": 82,
     "metadata": {
      "tags": []
     },
     "output_type": "execute_result"
    }
   ],
   "source": [
    "gs.best_params_"
   ]
  },
  {
   "cell_type": "markdown",
   "metadata": {
    "colab_type": "text",
    "id": "WnRXpIbsoSV6"
   },
   "source": [
    "Настроим параметры сэмплирования"
   ]
  },
  {
   "cell_type": "code",
   "execution_count": 0,
   "metadata": {
    "colab": {},
    "colab_type": "code",
    "id": "2xdQgHZvoVKR"
   },
   "outputs": [],
   "source": [
    "param_grid = {\n",
    "    \"subsample\": [0.4, 0.6, 0.8, 0.9],\n",
    "    \"colsample_bytree\": [0.4, 0.6, 0.8, 0.9],\n",
    "}\n",
    "\n",
    "xgb_params = {\"num_class\": 6, \n",
    "              \"booster\": \"gbtree\",\n",
    "              \"n_estimators\": 205,\n",
    "              \"max_depth\" : 4,\n",
    "              \"min_child_weight\" : 5,\n",
    "              \"learning_rate\": 0.1,\n",
    "              \"gamma\": 0,\n",
    "              \"tree_method\" : 'gpu_hist',\n",
    "              \"nthread\" : -1}"
   ]
  },
  {
   "cell_type": "code",
   "execution_count": 0,
   "metadata": {
    "colab": {
     "base_uri": "https://localhost:8080/",
     "height": 559
    },
    "colab_type": "code",
    "id": "bnSd9wE0ouHf",
    "outputId": "2a7583cd-cad8-4459-e639-8097f1919a0c"
   },
   "outputs": [
    {
     "name": "stdout",
     "output_type": "stream",
     "text": [
      "Fitting 3 folds for each of 16 candidates, totalling 48 fits\n"
     ]
    },
    {
     "name": "stderr",
     "output_type": "stream",
     "text": [
      "[Parallel(n_jobs=4)]: Using backend LokyBackend with 4 concurrent workers.\n",
      "/usr/local/lib/python3.6/dist-packages/joblib/externals/loky/process_executor.py:706: UserWarning: A worker stopped while some jobs were given to the executor. This can be caused by a too short worker timeout or by a memory leak.\n",
      "  \"timeout or by a memory leak.\", UserWarning\n",
      "[Parallel(n_jobs=4)]: Done   5 tasks      | elapsed:  1.3min\n",
      "[Parallel(n_jobs=4)]: Done  10 tasks      | elapsed:  2.0min\n",
      "[Parallel(n_jobs=4)]: Done  17 tasks      | elapsed:  3.3min\n",
      "[Parallel(n_jobs=4)]: Done  24 tasks      | elapsed:  4.1min\n",
      "[Parallel(n_jobs=4)]: Done  33 tasks      | elapsed:  6.1min\n",
      "[Parallel(n_jobs=4)]: Done  46 out of  48 | elapsed:  8.3min remaining:   21.7s\n",
      "[Parallel(n_jobs=4)]: Done  48 out of  48 | elapsed:  8.4min finished\n"
     ]
    },
    {
     "data": {
      "text/plain": [
       "GridSearchCV(cv=3, error_score=nan,\n",
       "             estimator=XGBClassifier(base_score=0.5, booster='gbtree',\n",
       "                                     colsample_bylevel=1, colsample_bynode=1,\n",
       "                                     colsample_bytree=1, gamma=0,\n",
       "                                     learning_rate=0.1, max_delta_step=0,\n",
       "                                     max_depth=4, min_child_weight=5,\n",
       "                                     missing=None, n_estimators=205, n_jobs=1,\n",
       "                                     nthread=-1, num_class=6,\n",
       "                                     objective='binary:logistic',\n",
       "                                     random_state=0, reg_alpha=0, reg_lambda=1,\n",
       "                                     scale_pos_weight=1, seed=None, silent=None,\n",
       "                                     subsample=1, tree_method='gpu_hist',\n",
       "                                     verbosity=1),\n",
       "             iid='deprecated', n_jobs=4,\n",
       "             param_grid={'colsample_bytree': [0.4, 0.6, 0.8, 0.9],\n",
       "                         'subsample': [0.4, 0.6, 0.8, 0.9]},\n",
       "             pre_dispatch='2*n_jobs', refit=True, return_train_score=False,\n",
       "             scoring='accuracy', verbose=10)"
      ]
     },
     "execution_count": 84,
     "metadata": {
      "tags": []
     },
     "output_type": "execute_result"
    }
   ],
   "source": [
    "gs = GridSearchCV(XGBClassifier(**xgb_params), param_grid, n_jobs=4, scoring='accuracy', verbose=10, cv=3)\n",
    "gs.fit(X_train, y_train)"
   ]
  },
  {
   "cell_type": "code",
   "execution_count": 0,
   "metadata": {
    "colab": {
     "base_uri": "https://localhost:8080/",
     "height": 35
    },
    "colab_type": "code",
    "id": "YRpq-H8Sqweo",
    "outputId": "f09700b7-f7bb-4871-8fa0-796a5efe6e67"
   },
   "outputs": [
    {
     "data": {
      "text/plain": [
       "{'colsample_bytree': 0.9, 'subsample': 0.4}"
      ]
     },
     "execution_count": 85,
     "metadata": {
      "tags": []
     },
     "output_type": "execute_result"
    }
   ],
   "source": [
    "gs.best_params_"
   ]
  },
  {
   "cell_type": "markdown",
   "metadata": {
    "colab_type": "text",
    "id": "8xbu7r5Gq0ec"
   },
   "source": [
    "Параметры регуляризации"
   ]
  },
  {
   "cell_type": "code",
   "execution_count": 0,
   "metadata": {
    "colab": {},
    "colab_type": "code",
    "id": "YOFsNQKVq2h6"
   },
   "outputs": [],
   "source": [
    "param_grid = {\n",
    "    'alpha': [0, 0.001, 0.005, 0.01, 0.05],\n",
    "    'lambda': [0, 0.001, 0.005, 0.01, 0.05],\n",
    "}\n",
    "\n",
    "xgb_params = {\"num_class\": 6, \n",
    "              \"booster\": \"gbtree\",Н\n",
    "              \"n_estimators\": 205,\n",
    "              \"max_depth\" : 4,\n",
    "              \"min_child_weight\" : 5,\n",
    "              \"subsample\": 0.9,\n",
    "              \"colsample_bytree\": 0.4,\n",
    "              \"learning_rate\": 0.1,\n",
    "              \"gamma\": 0,\n",
    "              \"tree_method\" : 'gpu_hist',\n",
    "              \"nthread\" : -1}"
   ]
  },
  {
   "cell_type": "code",
   "execution_count": 0,
   "metadata": {
    "colab": {
     "base_uri": "https://localhost:8080/",
     "height": 595
    },
    "colab_type": "code",
    "id": "iAilTBWmrSR8",
    "outputId": "a8074d66-43a0-4499-91b5-2acae9d3030b"
   },
   "outputs": [
    {
     "name": "stdout",
     "output_type": "stream",
     "text": [
      "Fitting 3 folds for each of 25 candidates, totalling 75 fits\n"
     ]
    },
    {
     "name": "stderr",
     "output_type": "stream",
     "text": [
      "[Parallel(n_jobs=4)]: Using backend LokyBackend with 4 concurrent workers.\n",
      "[Parallel(n_jobs=4)]: Done   5 tasks      | elapsed:  1.2min\n",
      "/usr/local/lib/python3.6/dist-packages/joblib/externals/loky/process_executor.py:706: UserWarning: A worker stopped while some jobs were given to the executor. This can be caused by a too short worker timeout or by a memory leak.\n",
      "  \"timeout or by a memory leak.\", UserWarning\n",
      "[Parallel(n_jobs=4)]: Done  10 tasks      | elapsed:  2.0min\n",
      "[Parallel(n_jobs=4)]: Done  17 tasks      | elapsed:  3.1min\n",
      "[Parallel(n_jobs=4)]: Done  24 tasks      | elapsed:  4.1min\n",
      "[Parallel(n_jobs=4)]: Done  33 tasks      | elapsed:  5.8min\n",
      "[Parallel(n_jobs=4)]: Done  42 tasks      | elapsed:  7.2min\n",
      "[Parallel(n_jobs=4)]: Done  53 tasks      | elapsed:  9.0min\n",
      "[Parallel(n_jobs=4)]: Done  64 tasks      | elapsed: 10.6min\n",
      "[Parallel(n_jobs=4)]: Done  75 out of  75 | elapsed: 12.3min finished\n"
     ]
    },
    {
     "data": {
      "text/plain": [
       "GridSearchCV(cv=3, error_score=nan,\n",
       "             estimator=XGBClassifier(base_score=0.5, booster='gbtree',\n",
       "                                     colsample_bylevel=1, colsample_bynode=1,\n",
       "                                     colsample_bytree=0.4, gamma=0,\n",
       "                                     learning_rate=0.1, max_delta_step=0,\n",
       "                                     max_depth=4, min_child_weight=5,\n",
       "                                     missing=None, n_estimators=205, n_jobs=1,\n",
       "                                     nthread=-1, num_class=6,\n",
       "                                     objective='binary:logistic',\n",
       "                                     random_state=0, reg_alpha=0, reg_lambda=1,\n",
       "                                     scale_pos_weight=1, seed=None, silent=None,\n",
       "                                     subsample=0.9, tree_method='gpu_hist',\n",
       "                                     verbosity=1),\n",
       "             iid='deprecated', n_jobs=4,\n",
       "             param_grid={'alpha': [0, 0.001, 0.005, 0.01, 0.05],\n",
       "                         'lambda': [0, 0.001, 0.005, 0.01, 0.05]},\n",
       "             pre_dispatch='2*n_jobs', refit=True, return_train_score=False,\n",
       "             scoring='accuracy', verbose=10)"
      ]
     },
     "execution_count": 87,
     "metadata": {
      "tags": []
     },
     "output_type": "execute_result"
    }
   ],
   "source": [
    "gs = GridSearchCV(XGBClassifier(**xgb_params), param_grid, n_jobs=4, scoring='accuracy', verbose=10, cv=3)\n",
    "gs.fit(X_train, y_train)"
   ]
  },
  {
   "cell_type": "code",
   "execution_count": 0,
   "metadata": {
    "colab": {
     "base_uri": "https://localhost:8080/",
     "height": 35
    },
    "colab_type": "code",
    "id": "88QOSlSurYjF",
    "outputId": "e671a332-4107-4d3a-e45d-0a76cbf38efe"
   },
   "outputs": [
    {
     "data": {
      "text/plain": [
       "{'alpha': 0, 'lambda': 0}"
      ]
     },
     "execution_count": 88,
     "metadata": {
      "tags": []
     },
     "output_type": "execute_result"
    }
   ],
   "source": [
    "gs.best_params_"
   ]
  },
  {
   "cell_type": "markdown",
   "metadata": {
    "colab_type": "text",
    "id": "qzIQEK0juRbA"
   },
   "source": [
    "Обучим модель с лучшими параметрами"
   ]
  },
  {
   "cell_type": "code",
   "execution_count": 0,
   "metadata": {
    "colab": {
     "base_uri": "https://localhost:8080/",
     "height": 89
    },
    "colab_type": "code",
    "id": "5e86PuhTuTjF",
    "outputId": "c95d4105-978a-49c7-9a14-671caf7058c1"
   },
   "outputs": [
    {
     "name": "stdout",
     "output_type": "stream",
     "text": [
      "Accuracy: 0.9484221241940957\n",
      "Precision: 0.9498640268981591\n",
      "Recall: 0.9467435045811601\n",
      "F1: 0.9477070152941972\n"
     ]
    }
   ],
   "source": [
    "xgb_model = gs.best_estimator_\n",
    "xgb_model.fit(X_train, y_train)\n",
    "calculate_metrics(y_test, xgb_model.predict(X_test))"
   ]
  },
  {
   "cell_type": "code",
   "execution_count": 0,
   "metadata": {
    "colab": {},
    "colab_type": "code",
    "id": "HGU-Sr7Svb6y"
   },
   "outputs": [],
   "source": [
    "pickle.dump(xgb_model, open(\"xgb.dat\", \"wb\"))"
   ]
  },
  {
   "cell_type": "markdown",
   "metadata": {
    "colab_type": "text",
    "id": "KIkwscvquuMx"
   },
   "source": [
    "Получили значения всех метрик лучше, чем логистической регрессией.  \n",
    "Baseline побит, уже хорошо."
   ]
  },
  {
   "cell_type": "markdown",
   "metadata": {
    "colab_type": "text",
    "id": "u0IzEsDJu_yk"
   },
   "source": [
    "***Catboost***"
   ]
  },
  {
   "cell_type": "markdown",
   "metadata": {
    "colab_type": "text",
    "id": "GnzDwigMwvGs"
   },
   "source": [
    "Одно из главных преимуществ `catboost` - умная работа с категориальными фичами, но в данном датасете явно указать их нет возможности. \n",
    "Повторим такой же цикл обучения, что и с `xgboost`"
   ]
  },
  {
   "cell_type": "markdown",
   "metadata": {
    "colab_type": "text",
    "id": "7AY_Gmrs-YrE"
   },
   "source": [
    "Выберем количество деревьев"
   ]
  },
  {
   "cell_type": "code",
   "execution_count": 0,
   "metadata": {
    "colab": {},
    "colab_type": "code",
    "id": "VFvCFOFDvEez"
   },
   "outputs": [],
   "source": [
    "param_grid = {\n",
    "    'iterations' : [100, 200, 400 , 600, 800, 1000]\n",
    "}\n",
    "catboost_params = {\"classes_count\": 6,\n",
    "                   \"learning_rate\": 0.1,\n",
    "                   \"depth\": 5,\n",
    "                   \"l2_leaf_reg\": 1,\n",
    "                   'task_type' :'GPU'}"
   ]
  },
  {
   "cell_type": "code",
   "execution_count": 0,
   "metadata": {
    "colab": {
     "base_uri": "https://localhost:8080/",
     "height": 1000
    },
    "colab_type": "code",
    "id": "m2UOinrYW2og",
    "outputId": "cd79b110-d1e2-43d8-f824-5ef28f64f9b4"
   },
   "outputs": [
    {
     "name": "stdout",
     "output_type": "stream",
     "text": [
      "Fitting 5 folds for each of 6 candidates, totalling 30 fits\n",
      "[CV] iterations=100 ..................................................\n"
     ]
    },
    {
     "name": "stderr",
     "output_type": "stream",
     "text": [
      "[Parallel(n_jobs=1)]: Using backend SequentialBackend with 1 concurrent workers.\n"
     ]
    },
    {
     "name": "stdout",
     "output_type": "stream",
     "text": [
      "[CV] ...................... iterations=100, score=0.890, total=   2.1s\n",
      "[CV] iterations=100 ..................................................\n"
     ]
    },
    {
     "name": "stderr",
     "output_type": "stream",
     "text": [
      "[Parallel(n_jobs=1)]: Done   1 out of   1 | elapsed:    2.1s remaining:    0.0s\n"
     ]
    },
    {
     "name": "stdout",
     "output_type": "stream",
     "text": [
      "[CV] ...................... iterations=100, score=0.910, total=   2.5s\n",
      "[CV] iterations=100 ..................................................\n"
     ]
    },
    {
     "name": "stderr",
     "output_type": "stream",
     "text": [
      "[Parallel(n_jobs=1)]: Done   2 out of   2 | elapsed:    4.5s remaining:    0.0s\n"
     ]
    },
    {
     "name": "stdout",
     "output_type": "stream",
     "text": [
      "[CV] ...................... iterations=100, score=0.931, total=   2.4s\n",
      "[CV] iterations=100 ..................................................\n"
     ]
    },
    {
     "name": "stderr",
     "output_type": "stream",
     "text": [
      "[Parallel(n_jobs=1)]: Done   3 out of   3 | elapsed:    6.9s remaining:    0.0s\n"
     ]
    },
    {
     "name": "stdout",
     "output_type": "stream",
     "text": [
      "[CV] ...................... iterations=100, score=0.956, total=   2.4s\n",
      "[CV] iterations=100 ..................................................\n"
     ]
    },
    {
     "name": "stderr",
     "output_type": "stream",
     "text": [
      "[Parallel(n_jobs=1)]: Done   4 out of   4 | elapsed:    9.4s remaining:    0.0s\n"
     ]
    },
    {
     "name": "stdout",
     "output_type": "stream",
     "text": [
      "[CV] ...................... iterations=100, score=0.935, total=   2.5s\n",
      "[CV] iterations=200 ..................................................\n",
      "[CV] ...................... iterations=200, score=0.906, total=   3.4s\n",
      "[CV] iterations=200 ..................................................\n",
      "[CV] ...................... iterations=200, score=0.908, total=   3.5s\n",
      "[CV] iterations=200 ..................................................\n",
      "[CV] ...................... iterations=200, score=0.937, total=   3.5s\n",
      "[CV] iterations=200 ..................................................\n",
      "[CV] ...................... iterations=200, score=0.963, total=   3.4s\n",
      "[CV] iterations=200 ..................................................\n",
      "[CV] ...................... iterations=200, score=0.942, total=   3.4s\n",
      "[CV] iterations=400 ..................................................\n",
      "[CV] ...................... iterations=400, score=0.918, total=   5.3s\n",
      "[CV] iterations=400 ..................................................\n",
      "[CV] ...................... iterations=400, score=0.912, total=   5.2s\n",
      "[CV] iterations=400 ..................................................\n",
      "[CV] ...................... iterations=400, score=0.941, total=   5.4s\n",
      "[CV] iterations=400 ..................................................\n",
      "[CV] ...................... iterations=400, score=0.964, total=   5.4s\n",
      "[CV] iterations=400 ..................................................\n",
      "[CV] ...................... iterations=400, score=0.947, total=   5.4s\n",
      "[CV] iterations=600 ..................................................\n",
      "[CV] ...................... iterations=600, score=0.916, total=   7.1s\n",
      "[CV] iterations=600 ..................................................\n",
      "[CV] ...................... iterations=600, score=0.912, total=   7.1s\n",
      "[CV] iterations=600 ..................................................\n",
      "[CV] ...................... iterations=600, score=0.942, total=   7.0s\n",
      "[CV] iterations=600 ..................................................\n",
      "[CV] ...................... iterations=600, score=0.965, total=   7.2s\n",
      "[CV] iterations=600 ..................................................\n",
      "[CV] ...................... iterations=600, score=0.951, total=   7.1s\n",
      "[CV] iterations=800 ..................................................\n",
      "[CV] ...................... iterations=800, score=0.918, total=   8.9s\n",
      "[CV] iterations=800 ..................................................\n",
      "[CV] ...................... iterations=800, score=0.911, total=   9.0s\n",
      "[CV] iterations=800 ..................................................\n",
      "[CV] ...................... iterations=800, score=0.941, total=   8.9s\n",
      "[CV] iterations=800 ..................................................\n",
      "[CV] ...................... iterations=800, score=0.965, total=   8.9s\n",
      "[CV] iterations=800 ..................................................\n",
      "[CV] ...................... iterations=800, score=0.950, total=   9.1s\n",
      "[CV] iterations=1000 .................................................\n",
      "[CV] ..................... iterations=1000, score=0.921, total=  10.9s\n",
      "[CV] iterations=1000 .................................................\n",
      "[CV] ..................... iterations=1000, score=0.910, total=  10.9s\n",
      "[CV] iterations=1000 .................................................\n",
      "[CV] ..................... iterations=1000, score=0.944, total=  11.1s\n",
      "[CV] iterations=1000 .................................................\n",
      "[CV] ..................... iterations=1000, score=0.966, total=  11.0s\n",
      "[CV] iterations=1000 .................................................\n",
      "[CV] ..................... iterations=1000, score=0.950, total=  10.9s\n"
     ]
    },
    {
     "name": "stderr",
     "output_type": "stream",
     "text": [
      "[Parallel(n_jobs=1)]: Done  30 out of  30 | elapsed:  3.2min finished\n"
     ]
    },
    {
     "name": "stdout",
     "output_type": "stream",
     "text": [
      "CPU times: user 3min 41s, sys: 2min 14s, total: 5min 55s\n",
      "Wall time: 3min 21s\n"
     ]
    }
   ],
   "source": [
    "%%time\n",
    "gs_catboost = GridSearchCV(CatBoostClassifier(**catboost_params, eval_metric='Accuracy', silent=True), param_grid, verbose=5)\n",
    "# catboost_model = CatBoostClassifier(**catboost_params, eval_metric='Accuracy')\n",
    "gs_catboost.fit(X_train, y_train)"
   ]
  },
  {
   "cell_type": "code",
   "execution_count": 0,
   "metadata": {
    "colab": {
     "base_uri": "https://localhost:8080/",
     "height": 35
    },
    "colab_type": "code",
    "id": "3nTjp2-re9ar",
    "outputId": "7fb87589-bebb-4b73-b3e3-888e282ae588"
   },
   "outputs": [
    {
     "name": "stdout",
     "output_type": "stream",
     "text": [
      "{'iterations': 1000}\n"
     ]
    }
   ],
   "source": [
    "print(gs_catboost.best_params_)\n",
    "catboost_model = gs_catboost.best_estimator_"
   ]
  },
  {
   "cell_type": "code",
   "execution_count": 0,
   "metadata": {
    "colab": {
     "base_uri": "https://localhost:8080/",
     "height": 89
    },
    "colab_type": "code",
    "id": "LcUUHrueXpVI",
    "outputId": "8572145a-b4d9-4a7f-a3ba-bcfb811e9e17"
   },
   "outputs": [
    {
     "name": "stdout",
     "output_type": "stream",
     "text": [
      "Accuracy: 0.9399389209365456\n",
      "Precision: 0.9418962802822298\n",
      "Recall: 0.9386568043365112\n",
      "F1: 0.9396356070871613\n"
     ]
    }
   ],
   "source": [
    "calculate_metrics(y_test, catboost_model.predict(X_test))"
   ]
  },
  {
   "cell_type": "markdown",
   "metadata": {
    "colab_type": "text",
    "id": "3yhXINMlfQrH"
   },
   "source": [
    "Подберем глубину"
   ]
  },
  {
   "cell_type": "code",
   "execution_count": 0,
   "metadata": {
    "colab": {},
    "colab_type": "code",
    "id": "Ngjnaj4MfWWt"
   },
   "outputs": [],
   "source": [
    "param_grid = {\n",
    "    \"depth\": [4, 5, 6, 7, 8]\n",
    "}\n",
    "catboost_params = {\"classes_count\": 6,\n",
    "                   'iterations' : 1000,\n",
    "                   \"learning_rate\": 0.1,\n",
    "                   \"l2_leaf_reg\": 1,\n",
    "                   'task_type' :'GPU'}"
   ]
  },
  {
   "cell_type": "code",
   "execution_count": 0,
   "metadata": {
    "colab": {
     "base_uri": "https://localhost:8080/",
     "height": 683
    },
    "colab_type": "code",
    "id": "_NmnCf8Gfhbz",
    "outputId": "ecfc3e37-45b5-4ab9-9573-ee8a228f4e0c"
   },
   "outputs": [
    {
     "name": "stdout",
     "output_type": "stream",
     "text": [
      "Fitting 3 folds for each of 5 candidates, totalling 15 fits\n",
      "[CV] depth=4 .........................................................\n"
     ]
    },
    {
     "name": "stderr",
     "output_type": "stream",
     "text": [
      "[Parallel(n_jobs=1)]: Using backend SequentialBackend with 1 concurrent workers.\n"
     ]
    },
    {
     "name": "stdout",
     "output_type": "stream",
     "text": [
      "[CV] ............................. depth=4, score=0.938, total=   7.9s\n",
      "[CV] depth=4 .........................................................\n"
     ]
    },
    {
     "name": "stderr",
     "output_type": "stream",
     "text": [
      "[Parallel(n_jobs=1)]: Done   1 out of   1 | elapsed:    7.9s remaining:    0.0s\n"
     ]
    },
    {
     "name": "stdout",
     "output_type": "stream",
     "text": [
      "[CV] ............................. depth=4, score=0.911, total=   8.3s\n",
      "[CV] depth=4 .........................................................\n"
     ]
    },
    {
     "name": "stderr",
     "output_type": "stream",
     "text": [
      "[Parallel(n_jobs=1)]: Done   2 out of   2 | elapsed:   16.1s remaining:    0.0s\n"
     ]
    },
    {
     "name": "stdout",
     "output_type": "stream",
     "text": [
      "[CV] ............................. depth=4, score=0.940, total=   8.0s\n",
      "[CV] depth=5 .........................................................\n",
      "[CV] ............................. depth=5, score=0.936, total=  10.4s\n",
      "[CV] depth=5 .........................................................\n",
      "[CV] ............................. depth=5, score=0.914, total=  10.4s\n",
      "[CV] depth=5 .........................................................\n",
      "[CV] ............................. depth=5, score=0.939, total=  10.3s\n",
      "[CV] depth=6 .........................................................\n",
      "[CV] ............................. depth=6, score=0.940, total=  13.9s\n",
      "[CV] depth=6 .........................................................\n",
      "[CV] ............................. depth=6, score=0.908, total=  13.8s\n",
      "[CV] depth=6 .........................................................\n",
      "[CV] ............................. depth=6, score=0.936, total=  14.0s\n",
      "[CV] depth=7 .........................................................\n",
      "[CV] ............................. depth=7, score=0.939, total=  20.1s\n",
      "[CV] depth=7 .........................................................\n",
      "[CV] ............................. depth=7, score=0.916, total=  19.9s\n",
      "[CV] depth=7 .........................................................\n",
      "[CV] ............................. depth=7, score=0.922, total=  20.0s\n",
      "[CV] depth=8 .........................................................\n",
      "[CV] ............................. depth=8, score=0.939, total=  31.2s\n",
      "[CV] depth=8 .........................................................\n",
      "[CV] ............................. depth=8, score=0.910, total=  31.3s\n",
      "[CV] depth=8 .........................................................\n",
      "[CV] ............................. depth=8, score=0.923, total=  31.0s\n"
     ]
    },
    {
     "name": "stderr",
     "output_type": "stream",
     "text": [
      "[Parallel(n_jobs=1)]: Done  15 out of  15 | elapsed:  4.2min finished\n"
     ]
    },
    {
     "name": "stdout",
     "output_type": "stream",
     "text": [
      "CPU times: user 4min 3s, sys: 3min 44s, total: 7min 48s\n",
      "Wall time: 4min 20s\n"
     ]
    }
   ],
   "source": [
    "%%time\n",
    "gs_catboost = GridSearchCV(CatBoostClassifier(**catboost_params, eval_metric='Accuracy', silent=True), \n",
    "                           param_grid, \n",
    "                           verbose=3, \n",
    "                           n_jobs=1,\n",
    "                           cv=3)\n",
    "# catboost_model = CatBoostClassifier(**catboost_params, eval_metric='Accuracy')\n",
    "gs_catboost.fit(X_train, y_train)"
   ]
  },
  {
   "cell_type": "code",
   "execution_count": 0,
   "metadata": {
    "colab": {
     "base_uri": "https://localhost:8080/",
     "height": 107
    },
    "colab_type": "code",
    "id": "yIZtPzbGgEzs",
    "outputId": "c4b66d96-7e64-4184-9d79-badef85540b8"
   },
   "outputs": [
    {
     "name": "stdout",
     "output_type": "stream",
     "text": [
      "{'depth': 5}\n",
      "Accuracy: 0.9399389209365456\n",
      "Precision: 0.9418962802822298\n",
      "Recall: 0.9386568043365112\n",
      "F1: 0.9396356070871613\n"
     ]
    }
   ],
   "source": [
    "print(gs_catboost.best_params_)\n",
    "catboost_model = gs_catboost.best_estimator_\n",
    "calculate_metrics(y_test, catboost_model.predict(X_test))"
   ]
  },
  {
   "cell_type": "markdown",
   "metadata": {
    "colab_type": "text",
    "id": "UMBfaD04gM-_"
   },
   "source": [
    "Наконец, выберем параметр регуляризации"
   ]
  },
  {
   "cell_type": "code",
   "execution_count": 0,
   "metadata": {
    "colab": {
     "base_uri": "https://localhost:8080/",
     "height": 935
    },
    "colab_type": "code",
    "id": "-pU2yInVgUTa",
    "outputId": "c68f79fb-fb5c-4d1d-c387-9c66b129d51b"
   },
   "outputs": [
    {
     "name": "stdout",
     "output_type": "stream",
     "text": [
      "Fitting 5 folds for each of 4 candidates, totalling 20 fits\n",
      "[CV] l2_leaf_reg=0.01 ................................................\n"
     ]
    },
    {
     "name": "stderr",
     "output_type": "stream",
     "text": [
      "[Parallel(n_jobs=1)]: Using backend SequentialBackend with 1 concurrent workers.\n"
     ]
    },
    {
     "name": "stdout",
     "output_type": "stream",
     "text": [
      "[CV] .................... l2_leaf_reg=0.01, score=0.927, total=   9.9s\n",
      "[CV] l2_leaf_reg=0.01 ................................................\n"
     ]
    },
    {
     "name": "stderr",
     "output_type": "stream",
     "text": [
      "[Parallel(n_jobs=1)]: Done   1 out of   1 | elapsed:    9.9s remaining:    0.0s\n"
     ]
    },
    {
     "name": "stdout",
     "output_type": "stream",
     "text": [
      "[CV] .................... l2_leaf_reg=0.01, score=0.909, total=  10.4s\n",
      "[CV] l2_leaf_reg=0.01 ................................................\n"
     ]
    },
    {
     "name": "stderr",
     "output_type": "stream",
     "text": [
      "[Parallel(n_jobs=1)]: Done   2 out of   2 | elapsed:   20.3s remaining:    0.0s\n"
     ]
    },
    {
     "name": "stdout",
     "output_type": "stream",
     "text": [
      "[CV] .................... l2_leaf_reg=0.01, score=0.949, total=  10.4s\n",
      "[CV] l2_leaf_reg=0.01 ................................................\n",
      "[CV] .................... l2_leaf_reg=0.01, score=0.975, total=  10.3s\n",
      "[CV] l2_leaf_reg=0.01 ................................................\n",
      "[CV] .................... l2_leaf_reg=0.01, score=0.939, total=  10.5s\n",
      "[CV] l2_leaf_reg=0.1 .................................................\n",
      "[CV] ..................... l2_leaf_reg=0.1, score=0.924, total=  10.4s\n",
      "[CV] l2_leaf_reg=0.1 .................................................\n",
      "[CV] ..................... l2_leaf_reg=0.1, score=0.908, total=  10.3s\n",
      "[CV] l2_leaf_reg=0.1 .................................................\n",
      "[CV] ..................... l2_leaf_reg=0.1, score=0.947, total=  10.5s\n",
      "[CV] l2_leaf_reg=0.1 .................................................\n",
      "[CV] ..................... l2_leaf_reg=0.1, score=0.972, total=  10.5s\n",
      "[CV] l2_leaf_reg=0.1 .................................................\n",
      "[CV] ..................... l2_leaf_reg=0.1, score=0.943, total=  10.3s\n",
      "[CV] l2_leaf_reg=1 ...................................................\n",
      "[CV] ....................... l2_leaf_reg=1, score=0.921, total=  10.7s\n",
      "[CV] l2_leaf_reg=1 ...................................................\n",
      "[CV] ....................... l2_leaf_reg=1, score=0.910, total=  10.7s\n",
      "[CV] l2_leaf_reg=1 ...................................................\n",
      "[CV] ....................... l2_leaf_reg=1, score=0.944, total=  10.3s\n",
      "[CV] l2_leaf_reg=1 ...................................................\n",
      "[CV] ....................... l2_leaf_reg=1, score=0.966, total=  10.2s\n",
      "[CV] l2_leaf_reg=1 ...................................................\n",
      "[CV] ....................... l2_leaf_reg=1, score=0.950, total=  10.9s\n",
      "[CV] l2_leaf_reg=10 ..................................................\n",
      "[CV] ...................... l2_leaf_reg=10, score=0.906, total=  10.5s\n",
      "[CV] l2_leaf_reg=10 ..................................................\n",
      "[CV] ...................... l2_leaf_reg=10, score=0.910, total=  10.7s\n",
      "[CV] l2_leaf_reg=10 ..................................................\n",
      "[CV] ...................... l2_leaf_reg=10, score=0.940, total=  10.8s\n",
      "[CV] l2_leaf_reg=10 ..................................................\n",
      "[CV] ...................... l2_leaf_reg=10, score=0.961, total=  10.2s\n",
      "[CV] l2_leaf_reg=10 ..................................................\n",
      "[CV] ...................... l2_leaf_reg=10, score=0.945, total=  10.4s\n"
     ]
    },
    {
     "name": "stderr",
     "output_type": "stream",
     "text": [
      "[Parallel(n_jobs=1)]: Done  20 out of  20 | elapsed:  3.5min finished\n"
     ]
    },
    {
     "data": {
      "text/plain": [
       "GridSearchCV(cv=None, error_score=nan,\n",
       "             estimator=<catboost.core.CatBoostClassifier object at 0x7fba447155c0>,\n",
       "             iid='deprecated', n_jobs=None,\n",
       "             param_grid={'l2_leaf_reg': [0.01, 0.1, 1, 10]},\n",
       "             pre_dispatch='2*n_jobs', refit=True, return_train_score=False,\n",
       "             scoring=None, verbose=3)"
      ]
     },
     "execution_count": 55,
     "metadata": {
      "tags": []
     },
     "output_type": "execute_result"
    }
   ],
   "source": [
    "param_grid = {\n",
    "    \"l2_leaf_reg\": [0.01, 0.1, 1, 10],\n",
    "}\n",
    "catboost_params = {\"classes_count\": 6,\n",
    "                   'iterations' : 1000,\n",
    "                   \"learning_rate\": 0.1,\n",
    "                   \"depth\": 5,\n",
    "                   'task_type' :'GPU'}\n",
    "\n",
    "gs_catboost = GridSearchCV(CatBoostClassifier(**catboost_params, eval_metric='Accuracy', silent=True), \n",
    "                           param_grid, \n",
    "                           verbose=3)\n",
    "# catboost_model = CatBoostClassifier(**catboost_params, eval_metric='Accuracy')\n",
    "gs_catboost.fit(X_train, y_train)"
   ]
  },
  {
   "cell_type": "code",
   "execution_count": 0,
   "metadata": {
    "colab": {
     "base_uri": "https://localhost:8080/",
     "height": 107
    },
    "colab_type": "code",
    "id": "_Wn1KpQhiNpj",
    "outputId": "39b2e442-1264-4eb8-d9a7-1e5489c20680"
   },
   "outputs": [
    {
     "name": "stdout",
     "output_type": "stream",
     "text": [
      "{'l2_leaf_reg': 0.01}\n",
      "Accuracy: 0.9355276552426196\n",
      "Precision: 0.9378766768868902\n",
      "Recall: 0.9341785216850385\n",
      "F1: 0.9351294803219438\n"
     ]
    }
   ],
   "source": [
    "print(gs_catboost.best_params_)\n",
    "catboost_model = gs_catboost.best_estimator_\n",
    "calculate_metrics(y_test, catboost_model.predict(X_test))"
   ]
  },
  {
   "cell_type": "markdown",
   "metadata": {
    "colab_type": "text",
    "id": "xE3-_A4JYwD_"
   },
   "source": [
    "### Part 2. Blending the models\n",
    "\n",
    "Take three (or more) best models and try to build the blending ensemble of them. Compare the quality of the final model using the same quality measures as above."
   ]
  },
  {
   "cell_type": "code",
   "execution_count": 0,
   "metadata": {
    "colab": {},
    "colab_type": "code",
    "id": "zVjtVrcaYwD_"
   },
   "outputs": [],
   "source": [
    "# Your code here"
   ]
  },
  {
   "cell_type": "markdown",
   "metadata": {
    "colab_type": "text",
    "id": "IsJE9P4cYwEC"
   },
   "source": [
    "### Part 3. Explaining the model and estimating the feature importances.\n",
    "\n",
    "Now your goal to take three best models and estimate feature importances using this models.\n",
    "\n",
    "* First, use the methods that libraries provide by default (e.g. `lightgbm.plot_importance`).\n",
    "* Next, use the [`shap`](https://github.com/slundberg/shap) library to explain the models behaviour and analyse the model performance. Compare the feature importances estimated by `shap` and by methods on the previous step."
   ]
  },
  {
   "cell_type": "code",
   "execution_count": 0,
   "metadata": {
    "colab": {},
    "colab_type": "code",
    "id": "Y8w71PYBYwEC"
   },
   "outputs": [],
   "source": [
    "# Your code here."
   ]
  }
 ],
 "metadata": {
  "accelerator": "GPU",
  "celltoolbar": "Create Assignment",
  "colab": {
   "collapsed_sections": [],
   "name": "Lab2_boosting.ipynb",
   "provenance": []
  },
  "kernelspec": {
   "display_name": "Python [conda env:anaconda3-mipt-stats] *",
   "language": "python",
   "name": "conda-env-anaconda3-mipt-stats-py"
  },
  "language_info": {
   "codemirror_mode": {
    "name": "ipython",
    "version": 3
   },
   "file_extension": ".py",
   "mimetype": "text/x-python",
   "name": "python",
   "nbconvert_exporter": "python",
   "pygments_lexer": "ipython3",
   "version": "3.7.6"
  },
  "toc": {
   "base_numbering": 1,
   "nav_menu": {},
   "number_sections": false,
   "sideBar": true,
   "skip_h1_title": false,
   "title_cell": "Table of Contents",
   "title_sidebar": "Contents",
   "toc_cell": false,
   "toc_position": {},
   "toc_section_display": true,
   "toc_window_display": false
  }
 },
 "nbformat": 4,
 "nbformat_minor": 1
}
